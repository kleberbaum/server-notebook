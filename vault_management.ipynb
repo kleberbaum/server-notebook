{
 "cells": [
  {
   "cell_type": "markdown",
   "metadata": {},
   "source": [
    "# Vault Management Notebook\n",
    "Start by setting the Vault address:"
   ]
  },
  {
   "cell_type": "code",
   "execution_count": null,
   "metadata": {},
   "outputs": [],
   "source": [
    "# Initialize the variable for the Vault address\n",
    "vault_address = \"https://192.168.1.1:8200\"\n",
    "print(f\"Vault address is set to: {vault_address}\")"
   ]
  },
  {
   "cell_type": "markdown",
   "metadata": {},
   "source": [
    "## Unseal Vault\n",
    "Proceed with unsealing the Vault using your unseal keys:"
   ]
  },
  {
   "cell_type": "code",
   "execution_count": null,
   "metadata": {},
   "outputs": [],
   "source": [
    "# Define unseal keys\n",
    "unseal_key1 = \"FOOBAR1\"\n",
    "unseal_key2 = \"FOOBAR2\"\n",
    "unseal_key3 = \"FOOBAR3\"\n",
    "\n",
    "print(f\"Vault unseal keys are configured as follows: \\n {unseal_key1} \\n {unseal_key2} \\n {unseal_key3}\")"
   ]
  },
  {
   "cell_type": "code",
   "execution_count": null,
   "metadata": {},
   "outputs": [],
   "source": [
    "%%bash -s \"$vault_address\" \"$unseal_key1\" \"$unseal_key2\" \"$unseal_key3\"\n",
    "\n",
    "# Assign command line arguments to variables\n",
    "vault_address=$1\n",
    "unseal_key1=$2\n",
    "unseal_key2=$3\n",
    "unseal_key3=$4\n",
    "\n",
    "# Iterate through each key to unseal the Vault\n",
    "declare -a keys=($unseal_key1 $unseal_key2 $unseal_key3)\n",
    "for key in \"${keys[@]}\"; do\n",
    "    response=$(\n",
    "        curl -s -k -X POST \\\n",
    "            -H \"Content-Type: application/json\" \\\n",
    "            -d \"{\\\"key\\\": \\\"$key\\\"}\" \\\n",
    "            $vault_address/v1/sys/unseal\n",
    "    )\n",
    "    \n",
    "    echo \"$response\"\n",
    "    \n",
    "    if [[ $(echo $response | grep -o '\"sealed\":false') ]]; then\n",
    "       echo \"Vault is unsealed.\"\n",
    "       break\n",
    "    fi\n",
    "done"
   ]
  },
  {
   "cell_type": "markdown",
   "metadata": {},
   "source": [
    "#### Testing Current Vault API Key\n",
    "Navigate to `MicroK8s` > `ConfigMaps and Secrets` > `vault-api-key` in the default namespace to find the Vault API key:"
   ]
  },
  {
   "cell_type": "code",
   "execution_count": null,
   "metadata": {},
   "outputs": [],
   "source": [
    "# Set Vault API key\n",
    "vault_api_key = \"hvs.FOOBAR\"\n",
    "print(f\"Vault API key is set to: {vault_api_key}\")"
   ]
  },
  {
   "cell_type": "code",
   "execution_count": null,
   "metadata": {},
   "outputs": [],
   "source": [
    "%%bash -s \"$vault_address\" \"$vault_api_key\"\n",
    "\n",
    "# Assign command line arguments to variables\n",
    "vault_address=$1\n",
    "vault_api_key=$2\n",
    "\n",
    "# Test the validity of the Vault API token\n",
    "response=$(\n",
    "     curl -s -k -X POST \\\n",
    "          -H \"X-Vault-Token: $vault_api_key\" \\\n",
    "          -H \"Content-Type: application/json\" \\\n",
    "          -d '{\"token\": \"username=kleberf,password=theUserPassword\"}' \\\n",
    "          $vault_address/v1/users/243478253677838381/samba\n",
    ")\n",
    "\n",
    "echo \"$response\"\n",
    "\n",
    "if [[ -z \"$response\" ]]; then\n",
    "     echo \"Token appears to be valid.\"\n",
    "fi"
   ]
  },
  {
   "cell_type": "markdown",
   "metadata": {},
   "source": [
    "### Token Update Warning\n",
    "A `permission denied` error indicates the token is no longer valid.\n",
    "\n",
    "<font color=#ff0000>**Proceed with caution:**</font> the following steps involve sensitive operations and should be handled securely. The root token is required for these operations and should never be exposed, shared, or stored insecurely, as it can decrypt all secrets."
   ]
  },
  {
   "cell_type": "code",
   "execution_count": null,
   "metadata": {},
   "outputs": [],
   "source": [
    "# Initialize the Vault root token\n",
    "vault_root_token = \"hvs.FOOBAR\"\n",
    "print(f\"Vault root token is set to: {vault_root_token}\")"
   ]
  },
  {
   "cell_type": "code",
   "execution_count": null,
   "metadata": {},
   "outputs": [],
   "source": [
    "%%bash -s \"$vault_address\" \"$vault_root_token\"\n",
    "\n",
    "vault_address=$1\n",
    "vault_root_token=$2\n",
    "\n",
    "# Create a new token with specific policies\n",
    "response=$(\n",
    "    curl -s -k -X POST \\\n",
    "        -H \"X-Vault-Token: $vault_root_token\" \\\n",
    "        -H \"Content-Type: application/json\" \\\n",
    "        -d '{\"policies\": [\"user-samba-update\"], \"meta\": {\"description\": \"Token for Samba Password Updates\"}, \"no_parent\": true, \"ttl\": \"0s\", \"renewable\": false}' \\\n",
    "        $vault_address/v1/auth/token/create\n",
    "    )\n",
    "\n",
    "echo \"$response\""
   ]
  }
 ],
 "metadata": {
  "kernelspec": {
   "display_name": "Python 3",
   "language": "python",
   "name": "python3"
  },
  "language_info": {
   "codemirror_mode": {
    "name": "ipython",
    "version": 3
   },
   "file_extension": ".py",
   "mimetype": "text/x-python",
   "name": "python",
   "nbconvert_exporter": "python",
   "pygments_lexer": "ipython3",
   "version": "3.8.10"
  }
 },
 "nbformat": 4,
 "nbformat_minor": 2
}
